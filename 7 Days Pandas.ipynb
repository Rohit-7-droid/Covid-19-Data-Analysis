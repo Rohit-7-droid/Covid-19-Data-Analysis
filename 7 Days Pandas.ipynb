{
 "cells": [
  {
   "cell_type": "markdown",
   "metadata": {},
   "source": [
    "# numpy limitation"
   ]
  },
  {
   "cell_type": "code",
   "execution_count": null,
   "metadata": {},
   "outputs": [],
   "source": [
    "import numpy as np\n",
    "# # type coercion\n",
    "# n1 = np.array([[1, 2, 3], [4, 5, 6]])\n",
    "# print(n1)\n",
    "# n2 = np.array([[1, 2, 3], [4.0, 5.4, 6.2]])\n",
    "# print(n2)\n",
    "n3 = np.array([[1, 2, 3], [4.0, 5, 'abc']])\n",
    "print(n3)"
   ]
  },
  {
   "cell_type": "code",
   "execution_count": null,
   "metadata": {},
   "outputs": [],
   "source": [
    "# dictionary"
   ]
  },
  {
   "cell_type": "markdown",
   "metadata": {},
   "source": [
    "## Series Data Structure"
   ]
  },
  {
   "cell_type": "code",
   "execution_count": null,
   "metadata": {},
   "outputs": [],
   "source": [
    "import pandas as pd\n",
    "import numpy as np"
   ]
  },
  {
   "cell_type": "code",
   "execution_count": null,
   "metadata": {},
   "outputs": [],
   "source": [
    "my_data=[10,20,30,40,50]\n",
    "s1 = pd.Series(my_data, ['u','v',3,5,4])\n",
    "# s1 = pd.Series(data=my_data)\n",
    "print(s1)"
   ]
  },
  {
   "cell_type": "code",
   "execution_count": null,
   "metadata": {},
   "outputs": [],
   "source": [
    "d={'w':10,'x':20,'y':30,'z':40}      \n",
    "#dictionary keys act as index and values with every key act as series values\n",
    "s2 = pd.Series(d)\n",
    "print(s2)"
   ]
  },
  {
   "cell_type": "code",
   "execution_count": null,
   "metadata": {},
   "outputs": [],
   "source": [
    "# Addition of two series\n",
    "ser1=pd.Series([1,2,3,4],['a','b', 'c', 'd'])   \n",
    "ser2=pd.Series([1,2,5,9],['a', 'b' ,'c', 'e'])\n",
    "ser1+ser2"
   ]
  },
  {
   "cell_type": "markdown",
   "metadata": {},
   "source": [
    "# DataFrame Data Structure"
   ]
  },
  {
   "cell_type": "code",
   "execution_count": null,
   "metadata": {},
   "outputs": [],
   "source": [
    "# Create Dataframe\n",
    "from numpy.random import randn\n",
    "np.random.seed(10)\n",
    "df1=pd.DataFrame(randn(5,4),['A','B','C','D','E'],['W','X','Y','Z'])  \n",
    "#generate random number for 5 rows and 4 columns\n",
    "print(df1)"
   ]
  },
  {
   "cell_type": "code",
   "execution_count": null,
   "metadata": {},
   "outputs": [],
   "source": [
    "# # Select columns\n",
    "# print(df1['W'])\n",
    "# print(df1[['W','Z']])"
   ]
  },
  {
   "cell_type": "markdown",
   "metadata": {},
   "source": [
    "## Data Manipulation: Data selection"
   ]
  },
  {
   "cell_type": "code",
   "execution_count": null,
   "metadata": {},
   "outputs": [],
   "source": [
    "# DataFrame.loc() will select rows by index values\n",
    "# DataFrame.iloc() will select rows by rows numbers\n",
    "print(df1)\n",
    "# print(df1.loc['A']) # fetch particular row from dataset having index ‘A’\n",
    "# print(df1.iloc[3]) # fetch 3rd row from dataset\n",
    "# print(df1.loc[['A','C'],['X','Z']]) # fetch a subset of data from given dataset"
   ]
  },
  {
   "cell_type": "code",
   "execution_count": null,
   "metadata": {},
   "outputs": [],
   "source": [
    "df1"
   ]
  },
  {
   "cell_type": "code",
   "execution_count": null,
   "metadata": {},
   "outputs": [],
   "source": [
    "# # Dropping row/columns\n",
    "# df1.drop('W',axis=1,inplace=True)\n",
    "# df2 = df1.drop('W',axis=1,inplace=False)\n",
    "# df1.drop('W',axis=1,inplace=True)"
   ]
  },
  {
   "cell_type": "code",
   "execution_count": null,
   "metadata": {},
   "outputs": [],
   "source": [
    "# print(df1)"
   ]
  },
  {
   "cell_type": "code",
   "execution_count": null,
   "metadata": {},
   "outputs": [],
   "source": [
    "from numpy.random import randn\n",
    "import pandas as pd\n",
    "np.random.seed(10)\n",
    "df2=pd.DataFrame(randn(5,4),['A','B','C','D','E'],['W','X','Y','Z'])\n",
    "print(df2)"
   ]
  },
  {
   "cell_type": "code",
   "execution_count": null,
   "metadata": {},
   "outputs": [],
   "source": [
    "df2[df2['X']>0][['X','Z']]"
   ]
  },
  {
   "cell_type": "code",
   "execution_count": null,
   "metadata": {},
   "outputs": [],
   "source": [
    "# df2['W'] > 0\n",
    "# df2[df2['W']>0][['X','Y']]\n",
    "# df2[df2['W']>0][['X','Y']]\n",
    "# fetch out desired frame of X & Y from dataset, for those rows where value is more than 0 in ‘W’ column"
   ]
  },
  {
   "cell_type": "code",
   "execution_count": null,
   "metadata": {},
   "outputs": [],
   "source": [
    "# df3=df2.set_index('Y') #assign natural index\n",
    "# df3\n",
    "# df4=df3.set_index('Z') #set ‘Z’ column as index value\n",
    "# df4"
   ]
  },
  {
   "cell_type": "markdown",
   "metadata": {},
   "source": [
    "### Drop missing Values"
   ]
  },
  {
   "cell_type": "code",
   "execution_count": null,
   "metadata": {},
   "outputs": [],
   "source": [
    "d={'A':[1,2,np.NaN], 'B':[1,np.NaN,np.NaN],'C':[1,2,3]}     \n",
    "# np.NaN is the missing element in DataFrame\n",
    "df4=pd.DataFrame(d)\n",
    "print(df4)"
   ]
  },
  {
   "cell_type": "code",
   "execution_count": null,
   "metadata": {},
   "outputs": [],
   "source": [
    "# df4.dropna()         #pandas would drop any row with missing value\n",
    "# df4.dropna(axis=1)   #drop column with NULL value\n",
    "# df4.dropna(thresh=2) #Require <2 non-NA values to drop row."
   ]
  },
  {
   "cell_type": "markdown",
   "metadata": {},
   "source": [
    "### Groupby"
   ]
  },
  {
   "cell_type": "code",
   "execution_count": null,
   "metadata": {},
   "outputs": [],
   "source": [
    "data = {'Company': [ 'A', 'A', 'B', 'B', 'C', 'C'],\n",
    "        'Person': ['Rajesh', 'Pradeep', 'Amit', 'Rakesh', 'Suresh', 'Raj'],\n",
    "        'Sales': [200, 120, 340, 124, 243, 350]}\n",
    "df6=pd.DataFrame(data)\n",
    "print(df6)"
   ]
  },
  {
   "cell_type": "code",
   "execution_count": null,
   "metadata": {},
   "outputs": [],
   "source": [
    "comp=df6.groupby(\"Company\")             #grouping done using label name “Company”\n",
    "print(comp.mean())                       #mean appliead on grouped data\n",
    "# df6.groupby(\"Company\").std()"
   ]
  },
  {
   "cell_type": "markdown",
   "metadata": {},
   "source": [
    "### Finding unique value & number of occurrence from Dataframe"
   ]
  },
  {
   "cell_type": "code",
   "execution_count": null,
   "metadata": {},
   "outputs": [],
   "source": [
    "# df7 = pd.DataFrame({'col1':[1,0,1,1],'col3':['a','b','b','a']})\n",
    "# print(df7)\n",
    "# df7['col2'].unique()#fetches the unique values available in column\n",
    "# df7['col2'].value_counts()# count number of occurance of every value"
   ]
  },
  {
   "cell_type": "code",
   "execution_count": null,
   "metadata": {},
   "outputs": [],
   "source": [
    "# type\n",
    "# type(df7['col2'])\n",
    "# type(df7[['col2']])"
   ]
  },
  {
   "cell_type": "markdown",
   "metadata": {},
   "source": [
    "## File Handling"
   ]
  },
  {
   "cell_type": "code",
   "execution_count": null,
   "metadata": {},
   "outputs": [],
   "source": [
    "# # csv\n",
    "# df1 = pd.read_csv('covid_19_india.csv')\n",
    "# type(df1)"
   ]
  },
  {
   "cell_type": "code",
   "execution_count": null,
   "metadata": {},
   "outputs": [],
   "source": [
    "# df2 = pd.DataFrame({'C1' : [1, 2, 3], 'C2' : [4, 5, 6], 'C3' : [7, 8, 9]})\n",
    "# print(df2)\n",
    "# df2.to_csv('new.csv')"
   ]
  },
  {
   "cell_type": "code",
   "execution_count": null,
   "metadata": {},
   "outputs": [],
   "source": [
    "# # Excel\n",
    "# df3 = pd.read_excel('Demo.xlsx',sheet_name='Sheet1')\n",
    "# df3\n",
    "# df4 = pd.read_excel('Demo.xlsx',sheet_name='Sheet2')\n",
    "# df4"
   ]
  },
  {
   "cell_type": "code",
   "execution_count": null,
   "metadata": {},
   "outputs": [],
   "source": [
    "df5 = pd.DataFrame({'C1' : [1, 1, 1], 'C2' : [2, 2, 2], 'C3' : [3, 3, 3]})\n",
    "print(df5)\n",
    "df5.to_excel('new.xlsx', sheet_name='a')"
   ]
  }
 ],
 "metadata": {
  "kernelspec": {
   "display_name": "Python 3",
   "language": "python",
   "name": "python3"
  },
  "language_info": {
   "codemirror_mode": {
    "name": "ipython",
    "version": 3
   },
   "file_extension": ".py",
   "mimetype": "text/x-python",
   "name": "python",
   "nbconvert_exporter": "python",
   "pygments_lexer": "ipython3",
   "version": "3.7.6"
  }
 },
 "nbformat": 4,
 "nbformat_minor": 4
}
